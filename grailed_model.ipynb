{
 "cells": [
  {
   "cell_type": "code",
   "execution_count": 1,
   "id": "f191520e",
   "metadata": {},
   "outputs": [],
   "source": [
    "import matplotlib.pyplot as plt\n",
    "import seaborn as sns\n",
    "%matplotlib inline\n",
    "import pandas as pd\n",
    "import numpy as np\n",
    "from sklearn.preprocessing import StandardScaler\n",
    "from sklearn.preprocessing import OneHotEncoder\n",
    "from sklearn.preprocessing import QuantileTransformer\n",
    "from sklearn.linear_model import LinearRegression\n",
    "from sklearn.model_selection import train_test_split\n",
    "from sklearn.preprocessing import PowerTransformer\n",
    "from sklearn.metrics import r2_score\n",
    "from sklearn.metrics import mean_squared_error as mse\n",
    "from sklearn.metrics import mean_absolute_error as mae\n",
    "from scipy.stats import boxcox\n",
    "pd.options.display.max_rows = 50\n",
    "pd.options.display.max_columns = 999\n",
    "import statsmodels.api as sm\n"
   ]
  },
  {
   "cell_type": "code",
   "execution_count": 2,
   "id": "57362056",
   "metadata": {},
   "outputs": [],
   "source": [
    "def load_original_data(a):\n",
    "    df = pd.read_csv(a)\n",
    "    return df"
   ]
  },
  {
   "cell_type": "code",
   "execution_count": 3,
   "id": "7ea235a3",
   "metadata": {},
   "outputs": [],
   "source": [
    "df=load_original_data('data/df_cleaned.csv') "
   ]
  },
  {
   "cell_type": "code",
   "execution_count": 4,
   "id": "8d276b9e",
   "metadata": {},
   "outputs": [
    {
     "data": {
      "text/html": [
       "<div>\n",
       "<style scoped>\n",
       "    .dataframe tbody tr th:only-of-type {\n",
       "        vertical-align: middle;\n",
       "    }\n",
       "\n",
       "    .dataframe tbody tr th {\n",
       "        vertical-align: top;\n",
       "    }\n",
       "\n",
       "    .dataframe thead th {\n",
       "        text-align: right;\n",
       "    }\n",
       "</style>\n",
       "<table border=\"1\" class=\"dataframe\">\n",
       "  <thead>\n",
       "    <tr style=\"text-align: right;\">\n",
       "      <th></th>\n",
       "      <th>Unnamed: 0</th>\n",
       "      <th>sold_price</th>\n",
       "      <th>designer</th>\n",
       "      <th>category</th>\n",
       "      <th>description</th>\n",
       "      <th>sub_title</th>\n",
       "      <th>image_count</th>\n",
       "      <th>feedback_count</th>\n",
       "      <th>size</th>\n",
       "      <th>color</th>\n",
       "      <th>condition</th>\n",
       "      <th>category_group</th>\n",
       "      <th>description_length</th>\n",
       "      <th>sub_title_length</th>\n",
       "    </tr>\n",
       "  </thead>\n",
       "  <tbody>\n",
       "    <tr>\n",
       "      <th>0</th>\n",
       "      <td>6</td>\n",
       "      <td>144.0</td>\n",
       "      <td>Acne Studios</td>\n",
       "      <td>Shirts (Button Ups)</td>\n",
       "      <td>Hi! Never worn condition ,u can see all on a p...</td>\n",
       "      <td>Acne Studios t-shirt</td>\n",
       "      <td>5</td>\n",
       "      <td>11.0</td>\n",
       "      <td>m</td>\n",
       "      <td>Black</td>\n",
       "      <td>New</td>\n",
       "      <td>top</td>\n",
       "      <td>125</td>\n",
       "      <td>3</td>\n",
       "    </tr>\n",
       "    <tr>\n",
       "      <th>1</th>\n",
       "      <td>7</td>\n",
       "      <td>70.0</td>\n",
       "      <td>Acne Studios</td>\n",
       "      <td>Sweatshirts &amp; Hoodies</td>\n",
       "      <td>Great condition Size on tag: S (Ladies) ——————...</td>\n",
       "      <td>Acne Studios Lia Mohair SS13 Ladies size S</td>\n",
       "      <td>7</td>\n",
       "      <td>219.0</td>\n",
       "      <td>s</td>\n",
       "      <td>Grey</td>\n",
       "      <td>Gently used</td>\n",
       "      <td>top</td>\n",
       "      <td>147</td>\n",
       "      <td>8</td>\n",
       "    </tr>\n",
       "    <tr>\n",
       "      <th>2</th>\n",
       "      <td>11</td>\n",
       "      <td>75.0</td>\n",
       "      <td>Acne Studios</td>\n",
       "      <td>Short Sleeve T-Shirts</td>\n",
       "      <td>VERY RARE!!! ACNE STUDIOS t-shirt, size L, wat...</td>\n",
       "      <td>RARE!!! ACNE Studios size L</td>\n",
       "      <td>7</td>\n",
       "      <td>15.0</td>\n",
       "      <td>l</td>\n",
       "      <td>White</td>\n",
       "      <td>Gently used</td>\n",
       "      <td>top</td>\n",
       "      <td>88</td>\n",
       "      <td>5</td>\n",
       "    </tr>\n",
       "    <tr>\n",
       "      <th>3</th>\n",
       "      <td>12</td>\n",
       "      <td>200.0</td>\n",
       "      <td>Acne Studios</td>\n",
       "      <td>Sweaters &amp; Knitwear</td>\n",
       "      <td>Brand new with tags Acne Studios ribbed zip-up...</td>\n",
       "      <td>BNWT $800 Acne Studios M Ribbed Zip Up Knitted...</td>\n",
       "      <td>6</td>\n",
       "      <td>163.0</td>\n",
       "      <td>m</td>\n",
       "      <td>Beige</td>\n",
       "      <td>New</td>\n",
       "      <td>top</td>\n",
       "      <td>89</td>\n",
       "      <td>11</td>\n",
       "    </tr>\n",
       "    <tr>\n",
       "      <th>4</th>\n",
       "      <td>14</td>\n",
       "      <td>53.0</td>\n",
       "      <td>Acne Studios</td>\n",
       "      <td>Short Sleeve T-Shirts</td>\n",
       "      <td>Acne Studios Niagara Tee Size: M This tee here...</td>\n",
       "      <td>Acne Studios Black Niagara FL Tee</td>\n",
       "      <td>4</td>\n",
       "      <td>138.0</td>\n",
       "      <td>m</td>\n",
       "      <td>Black</td>\n",
       "      <td>Gently used</td>\n",
       "      <td>top</td>\n",
       "      <td>68</td>\n",
       "      <td>6</td>\n",
       "    </tr>\n",
       "    <tr>\n",
       "      <th>...</th>\n",
       "      <td>...</td>\n",
       "      <td>...</td>\n",
       "      <td>...</td>\n",
       "      <td>...</td>\n",
       "      <td>...</td>\n",
       "      <td>...</td>\n",
       "      <td>...</td>\n",
       "      <td>...</td>\n",
       "      <td>...</td>\n",
       "      <td>...</td>\n",
       "      <td>...</td>\n",
       "      <td>...</td>\n",
       "      <td>...</td>\n",
       "      <td>...</td>\n",
       "    </tr>\n",
       "    <tr>\n",
       "      <th>50461</th>\n",
       "      <td>103423</td>\n",
       "      <td>75.0</td>\n",
       "      <td>Sophnet.</td>\n",
       "      <td>Bags &amp; Luggage</td>\n",
       "      <td>Please ask any question before purchase. This ...</td>\n",
       "      <td>Visvim X Sophnet. SS09 8L Ballistic Weist Bag/...</td>\n",
       "      <td>14</td>\n",
       "      <td>302.0</td>\n",
       "      <td>ONE SIZE</td>\n",
       "      <td>Black_white</td>\n",
       "      <td>Used</td>\n",
       "      <td>accessories</td>\n",
       "      <td>88</td>\n",
       "      <td>9</td>\n",
       "    </tr>\n",
       "    <tr>\n",
       "      <th>50462</th>\n",
       "      <td>103427</td>\n",
       "      <td>56.0</td>\n",
       "      <td>Sophnet.</td>\n",
       "      <td>Jewelry &amp; Watches</td>\n",
       "      <td>-Number- 16124 - 0929 42 ・ -Tag Size- OS ・ -Me...</td>\n",
       "      <td>SOPHNET/logo graphic ring/16124 - 0929 42</td>\n",
       "      <td>6</td>\n",
       "      <td>2952.0</td>\n",
       "      <td>ONE SIZE</td>\n",
       "      <td>Silver</td>\n",
       "      <td>Gently used</td>\n",
       "      <td>accessories</td>\n",
       "      <td>129</td>\n",
       "      <td>6</td>\n",
       "    </tr>\n",
       "    <tr>\n",
       "      <th>50463</th>\n",
       "      <td>103467</td>\n",
       "      <td>175.0</td>\n",
       "      <td>Sophnet.</td>\n",
       "      <td>Bags &amp; Luggage</td>\n",
       "      <td>PLEASE READ BEFORE BUY!! THIS IS USED CLOTHING...</td>\n",
       "      <td>Visvim Ballistic E-cat 18L Massenger Bag</td>\n",
       "      <td>16</td>\n",
       "      <td>19.0</td>\n",
       "      <td>ONE SIZE</td>\n",
       "      <td>Black</td>\n",
       "      <td>Used</td>\n",
       "      <td>accessories</td>\n",
       "      <td>242</td>\n",
       "      <td>6</td>\n",
       "    </tr>\n",
       "    <tr>\n",
       "      <th>50464</th>\n",
       "      <td>103522</td>\n",
       "      <td>80.0</td>\n",
       "      <td>Sophnet.</td>\n",
       "      <td>Bags &amp; Luggage</td>\n",
       "      <td>10/10 Water repellent Delivered as the standou...</td>\n",
       "      <td>Sophnet Carhartt Tote 20 Year Anniversary</td>\n",
       "      <td>2</td>\n",
       "      <td>62.0</td>\n",
       "      <td>ONE SIZE</td>\n",
       "      <td>Black</td>\n",
       "      <td>New</td>\n",
       "      <td>accessories</td>\n",
       "      <td>53</td>\n",
       "      <td>6</td>\n",
       "    </tr>\n",
       "    <tr>\n",
       "      <th>50465</th>\n",
       "      <td>103531</td>\n",
       "      <td>234.0</td>\n",
       "      <td>Sophnet.</td>\n",
       "      <td>Bags &amp; Luggage</td>\n",
       "      <td>📱 INSTAGRAM: @StylisticsJapan ✅ 100% AUTHENTIC...</td>\n",
       "      <td>VISVIM SOPHNET BALLISTIC LUMBAR MINI WAIST SHO...</td>\n",
       "      <td>10</td>\n",
       "      <td>974.0</td>\n",
       "      <td>ONE SIZE</td>\n",
       "      <td>Blue</td>\n",
       "      <td>Gently used</td>\n",
       "      <td>accessories</td>\n",
       "      <td>110</td>\n",
       "      <td>8</td>\n",
       "    </tr>\n",
       "  </tbody>\n",
       "</table>\n",
       "<p>50466 rows × 14 columns</p>\n",
       "</div>"
      ],
      "text/plain": [
       "       Unnamed: 0  sold_price      designer               category  \\\n",
       "0               6       144.0  Acne Studios    Shirts (Button Ups)   \n",
       "1               7        70.0  Acne Studios  Sweatshirts & Hoodies   \n",
       "2              11        75.0  Acne Studios  Short Sleeve T-Shirts   \n",
       "3              12       200.0  Acne Studios    Sweaters & Knitwear   \n",
       "4              14        53.0  Acne Studios  Short Sleeve T-Shirts   \n",
       "...           ...         ...           ...                    ...   \n",
       "50461      103423        75.0      Sophnet.         Bags & Luggage   \n",
       "50462      103427        56.0      Sophnet.      Jewelry & Watches   \n",
       "50463      103467       175.0      Sophnet.         Bags & Luggage   \n",
       "50464      103522        80.0      Sophnet.         Bags & Luggage   \n",
       "50465      103531       234.0      Sophnet.         Bags & Luggage   \n",
       "\n",
       "                                             description  \\\n",
       "0      Hi! Never worn condition ,u can see all on a p...   \n",
       "1      Great condition Size on tag: S (Ladies) ——————...   \n",
       "2      VERY RARE!!! ACNE STUDIOS t-shirt, size L, wat...   \n",
       "3      Brand new with tags Acne Studios ribbed zip-up...   \n",
       "4      Acne Studios Niagara Tee Size: M This tee here...   \n",
       "...                                                  ...   \n",
       "50461  Please ask any question before purchase. This ...   \n",
       "50462  -Number- 16124 - 0929 42 ・ -Tag Size- OS ・ -Me...   \n",
       "50463  PLEASE READ BEFORE BUY!! THIS IS USED CLOTHING...   \n",
       "50464  10/10 Water repellent Delivered as the standou...   \n",
       "50465  📱 INSTAGRAM: @StylisticsJapan ✅ 100% AUTHENTIC...   \n",
       "\n",
       "                                               sub_title  image_count  \\\n",
       "0                                   Acne Studios t-shirt            5   \n",
       "1             Acne Studios Lia Mohair SS13 Ladies size S            7   \n",
       "2                            RARE!!! ACNE Studios size L            7   \n",
       "3      BNWT $800 Acne Studios M Ribbed Zip Up Knitted...            6   \n",
       "4                      Acne Studios Black Niagara FL Tee            4   \n",
       "...                                                  ...          ...   \n",
       "50461  Visvim X Sophnet. SS09 8L Ballistic Weist Bag/...           14   \n",
       "50462          SOPHNET/logo graphic ring/16124 - 0929 42            6   \n",
       "50463           Visvim Ballistic E-cat 18L Massenger Bag           16   \n",
       "50464          Sophnet Carhartt Tote 20 Year Anniversary            2   \n",
       "50465  VISVIM SOPHNET BALLISTIC LUMBAR MINI WAIST SHO...           10   \n",
       "\n",
       "       feedback_count      size        color    condition category_group  \\\n",
       "0                11.0         m        Black          New            top   \n",
       "1               219.0         s         Grey  Gently used            top   \n",
       "2                15.0         l        White  Gently used            top   \n",
       "3               163.0         m        Beige          New            top   \n",
       "4               138.0         m        Black  Gently used            top   \n",
       "...               ...       ...          ...          ...            ...   \n",
       "50461           302.0  ONE SIZE  Black_white         Used    accessories   \n",
       "50462          2952.0  ONE SIZE       Silver  Gently used    accessories   \n",
       "50463            19.0  ONE SIZE        Black         Used    accessories   \n",
       "50464            62.0  ONE SIZE        Black          New    accessories   \n",
       "50465           974.0  ONE SIZE         Blue  Gently used    accessories   \n",
       "\n",
       "       description_length  sub_title_length  \n",
       "0                     125                 3  \n",
       "1                     147                 8  \n",
       "2                      88                 5  \n",
       "3                      89                11  \n",
       "4                      68                 6  \n",
       "...                   ...               ...  \n",
       "50461                  88                 9  \n",
       "50462                 129                 6  \n",
       "50463                 242                 6  \n",
       "50464                  53                 6  \n",
       "50465                 110                 8  \n",
       "\n",
       "[50466 rows x 14 columns]"
      ]
     },
     "execution_count": 4,
     "metadata": {},
     "output_type": "execute_result"
    }
   ],
   "source": [
    "df"
   ]
  },
  {
   "cell_type": "code",
   "execution_count": 8,
   "id": "f3f93bdb",
   "metadata": {},
   "outputs": [
    {
     "name": "stdout",
     "output_type": "stream",
     "text": [
      "<class 'pandas.core.frame.DataFrame'>\n",
      "RangeIndex: 50466 entries, 0 to 50465\n",
      "Data columns (total 14 columns):\n",
      " #   Column              Non-Null Count  Dtype  \n",
      "---  ------              --------------  -----  \n",
      " 0   Unnamed: 0          50466 non-null  int64  \n",
      " 1   sold_price          50466 non-null  float64\n",
      " 2   designer            50466 non-null  object \n",
      " 3   category            50466 non-null  object \n",
      " 4   description         50466 non-null  object \n",
      " 5   sub_title           50466 non-null  object \n",
      " 6   image_count         50466 non-null  int64  \n",
      " 7   feedback_count      50466 non-null  float64\n",
      " 8   size                50466 non-null  object \n",
      " 9   color               50466 non-null  object \n",
      " 10  condition           50466 non-null  object \n",
      " 11  category_group      50466 non-null  object \n",
      " 12  description_length  50466 non-null  int64  \n",
      " 13  sub_title_length    50466 non-null  int64  \n",
      "dtypes: float64(2), int64(4), object(8)\n",
      "memory usage: 5.4+ MB\n"
     ]
    }
   ],
   "source": [
    "df.info()"
   ]
  },
  {
   "cell_type": "code",
   "execution_count": 7,
   "id": "f8049496",
   "metadata": {},
   "outputs": [],
   "source": [
    "IPython_default = plt.rcParams.copy()\n",
    "from matplotlib import cycler\n",
    "plt.rcParams.update({'text.color' : \"white\",\n",
    "                     'axes.labelcolor' : \"white\",\n",
    "                     'xtick.color' : 'white',\n",
    "                     'ytick.color' : 'white'\n",
    "                    })\n"
   ]
  },
  {
   "cell_type": "code",
   "execution_count": 9,
   "id": "6add1914",
   "metadata": {},
   "outputs": [
    {
     "data": {
      "image/png": "[encoded data removed]",
      "text/plain": [
       "<Figure size 720x360 with 1 Axes>"
      ]
     },
     "metadata": {
      "needs_background": "dark"
     },
     "output_type": "display_data"
    },
    {
     "data": {
      "image/png": "[encoded data removed]",
      "text/plain": [
       "<Figure size 720x360 with 1 Axes>"
      ]
     },
     "metadata": {
      "needs_background": "dark"
     },
     "output_type": "display_data"
    },
    {
     "data": {
      "image/png": "[encoded data removed]",
      "text/plain": [
       "<Figure size 720x360 with 1 Axes>"
      ]
     },
     "metadata": {
      "needs_background": "dark"
     },
     "output_type": "display_data"
    },
    {
     "data": {
      "image/png": "[encoded data removed]",
      "text/plain": [
       "<Figure size 720x360 with 1 Axes>"
      ]
     },
     "metadata": {
      "needs_background": "dark"
     },
     "output_type": "display_data"
    },
    {
     "data": {
      "image/png": "[encoded data removed]",
      "text/plain": [
       "<Figure size 720x360 with 1 Axes>"
      ]
     },
     "metadata": {
      "needs_background": "dark"
     },
     "output_type": "display_data"
    },
    {
     "data": {
      "image/png": "[encoded data removed]",
      "text/plain": [
       "<Figure size 720x360 with 1 Axes>"
      ]
     },
     "metadata": {
      "needs_background": "dark"
     },
     "output_type": "display_data"
    }
   ],
   "source": [
    "for c in df.select_dtypes(exclude=['object']):\n",
    "    plt.figure(figsize=(10,5))\n",
    "    plt.bar(df[c].unique(), df[c].value_counts())\n",
    "    plt.title(c)\n",
    "    plt.show();"
   ]
  },
  {
   "cell_type": "code",
   "execution_count": 10,
   "id": "b3402f0b",
   "metadata": {},
   "outputs": [
    {
     "data": {
      "text/plain": [
       "Vintage             13606\n",
       "Nike                  987\n",
       "Japanese Brand        647\n",
       "Adidas                438\n",
       "Supreme               386\n",
       "                    ...  \n",
       "Aero Leather            2\n",
       "(+) People Jeans        2\n",
       "Civil Regime            2\n",
       "Atmos                   1\n",
       "47                      1\n",
       "Name: designer, Length: 912, dtype: int64"
      ]
     },
     "execution_count": 10,
     "metadata": {},
     "output_type": "execute_result"
    }
   ],
   "source": [
    "df.designer.value_counts()"
   ]
  },
  {
   "cell_type": "code",
   "execution_count": null,
   "id": "606f91c7",
   "metadata": {},
   "outputs": [],
   "source": []
  }
 ],
 "metadata": {
  "kernelspec": {
   "display_name": "Python 3.9.6 64-bit ('DA_env': conda)",
   "language": "python",
   "name": "python396jvsc74a57bd012bd8297a1d74c0a30a730a485908f1f7aa6eb3402318f2c7abdc197fc45e016"
  },
  "language_info": {
   "codemirror_mode": {
    "name": "ipython",
    "version": 3
   },
   "file_extension": ".py",
   "mimetype": "text/x-python",
   "name": "python",
   "nbconvert_exporter": "python",
   "pygments_lexer": "ipython3",
   "version": "3.9.6"
  }
 },
 "nbformat": 4,
 "nbformat_minor": 5
}
