{
 "cells": [
  {
   "cell_type": "code",
   "execution_count": 155,
   "id": "5c176779",
   "metadata": {},
   "outputs": [],
   "source": [
    "import pandas as pd\n",
    "import csv\n",
    "pd.set_option('display.max_rows', 500)\n",
    "pd.set_option('display.max_columns', 500)\n",
    "import selenium\n",
    "from selenium import webdriver\n",
    "from selenium.webdriver.common.keys import Keys\n",
    "from selenium.webdriver.support.ui import WebDriverWait\n",
    "from selenium.webdriver.support import expected_conditions as EC\n",
    "from selenium.webdriver.common.by import By\n",
    "from selenium.webdriver.support.ui import Select\n",
    "from selenium.webdriver import ActionChains\n",
    "from selenium.webdriver.chrome.options import Options\n"
   ]
  },
  {
   "cell_type": "code",
   "execution_count": 7,
   "id": "84883d85",
   "metadata": {},
   "outputs": [
    {
     "name": "stderr",
     "output_type": "stream",
     "text": [
      "/var/folders/3r/vv8m2rv95fz7qh9n60xh60y40000gp/T/ipykernel_29118/917665517.py:7: DeprecationWarning: executable_path has been deprecated, please pass in a Service object\n",
      "  driver = webdriver.Chrome('data/chromedriver',options=chrome_options) # replace webdrive location with ones own\n",
      "/var/folders/3r/vv8m2rv95fz7qh9n60xh60y40000gp/T/ipykernel_29118/917665517.py:18: DeprecationWarning: find_elements_by_* commands are deprecated. Please use find_elements() instead\n",
      "  results = driver.find_elements_by_xpath(\"//a[@href]\")\n"
     ]
    }
   ],
   "source": [
    "\n",
    "# Setting a base url for where to find all the designers on grailed\n",
    "base_url = \"https://www.grailed.com/designers/\"\n",
    "# open up chrome\n",
    "chrome_options = webdriver.ChromeOptions()\n",
    "driver = webdriver.Chrome('data/chromedriver',options=chrome_options) # replace webdrive location with ones own\n",
    "driver.get(base_url)\n",
    "# wait 30 sec will quit if takes over 30 seconds\n",
    "timeout = \n",
    "try:\n",
    "    WebDriverWait(driver, timeout).until(EC.visibility_of_element_located((By.XPATH, \"//div[@id='app']\")))\n",
    "except TimeoutException:\n",
    "    print(\"Timed out\")\n",
    "    driver.quit()\n",
    "    \n",
    "# gathering all links on designer page\n",
    "results = driver.find_elements_by_xpath(\"//a[@href]\")\n",
    "# Making a list of all the links \n",
    "Link =[]\n",
    "for result in results:\n",
    "        link = result.get_attribute(\"href\") # grabbing the link attribute\n",
    "        Link.append(link)\n",
    "      \n",
    "# Turn the Links into a DataFrame\n",
    "ItemDF=pd.DataFrame(Link,columns=['Link'])\n",
    "\n",
    "# filtering out links that are not designer page links\n",
    "ItemDF = ItemDF[ItemDF['Link'].str.contains(\"designers/\")]"
   ]
  },
  {
   "cell_type": "code",
   "execution_count": 8,
   "id": "786859fa",
   "metadata": {},
   "outputs": [
    {
     "data": {
      "text/html": [
       "<div>\n",
       "<style scoped>\n",
       "    .dataframe tbody tr th:only-of-type {\n",
       "        vertical-align: middle;\n",
       "    }\n",
       "\n",
       "    .dataframe tbody tr th {\n",
       "        vertical-align: top;\n",
       "    }\n",
       "\n",
       "    .dataframe thead th {\n",
       "        text-align: right;\n",
       "    }\n",
       "</style>\n",
       "<table border=\"1\" class=\"dataframe\">\n",
       "  <thead>\n",
       "    <tr style=\"text-align: right;\">\n",
       "      <th></th>\n",
       "      <th>Link</th>\n",
       "    </tr>\n",
       "  </thead>\n",
       "  <tbody>\n",
       "    <tr>\n",
       "      <th>9</th>\n",
       "      <td>https://www.grailed.com/designers/acne-studios</td>\n",
       "    </tr>\n",
       "    <tr>\n",
       "      <th>10</th>\n",
       "      <td>https://www.grailed.com/designers/adidas</td>\n",
       "    </tr>\n",
       "    <tr>\n",
       "      <th>11</th>\n",
       "      <td>https://www.grailed.com/designers/alexander-mc...</td>\n",
       "    </tr>\n",
       "    <tr>\n",
       "      <th>12</th>\n",
       "      <td>https://www.grailed.com/designers/alexander-wang</td>\n",
       "    </tr>\n",
       "    <tr>\n",
       "      <th>13</th>\n",
       "      <td>https://www.grailed.com/designers/balenciaga</td>\n",
       "    </tr>\n",
       "    <tr>\n",
       "      <th>...</th>\n",
       "      <td>...</td>\n",
       "    </tr>\n",
       "    <tr>\n",
       "      <th>6548</th>\n",
       "      <td>https://www.grailed.com/designers/zubaz</td>\n",
       "    </tr>\n",
       "    <tr>\n",
       "      <th>6549</th>\n",
       "      <td>https://www.grailed.com/designers/zumiez</td>\n",
       "    </tr>\n",
       "    <tr>\n",
       "      <th>6550</th>\n",
       "      <td>https://www.grailed.com/designers/zurich-swiss</td>\n",
       "    </tr>\n",
       "    <tr>\n",
       "      <th>6551</th>\n",
       "      <td>https://www.grailed.com/designers/zylos-george...</td>\n",
       "    </tr>\n",
       "    <tr>\n",
       "      <th>6552</th>\n",
       "      <td>https://www.grailed.com/designers/zylos-george...</td>\n",
       "    </tr>\n",
       "  </tbody>\n",
       "</table>\n",
       "<p>6388 rows × 1 columns</p>\n",
       "</div>"
      ],
      "text/plain": [
       "                                                   Link\n",
       "9        https://www.grailed.com/designers/acne-studios\n",
       "10             https://www.grailed.com/designers/adidas\n",
       "11    https://www.grailed.com/designers/alexander-mc...\n",
       "12     https://www.grailed.com/designers/alexander-wang\n",
       "13         https://www.grailed.com/designers/balenciaga\n",
       "...                                                 ...\n",
       "6548            https://www.grailed.com/designers/zubaz\n",
       "6549           https://www.grailed.com/designers/zumiez\n",
       "6550     https://www.grailed.com/designers/zurich-swiss\n",
       "6551  https://www.grailed.com/designers/zylos-george...\n",
       "6552  https://www.grailed.com/designers/zylos-george...\n",
       "\n",
       "[6388 rows x 1 columns]"
      ]
     },
     "execution_count": 8,
     "metadata": {},
     "output_type": "execute_result"
    }
   ],
   "source": [
    "ItemDF"
   ]
  },
  {
   "cell_type": "code",
   "execution_count": 9,
   "id": "8dc44f26",
   "metadata": {},
   "outputs": [],
   "source": [
    "df1 = ItemDF.iloc[:1, :]\n"
   ]
  },
  {
   "cell_type": "code",
   "execution_count": 10,
   "id": "62fd7dce",
   "metadata": {},
   "outputs": [
    {
     "data": {
      "text/html": [
       "<div>\n",
       "<style scoped>\n",
       "    .dataframe tbody tr th:only-of-type {\n",
       "        vertical-align: middle;\n",
       "    }\n",
       "\n",
       "    .dataframe tbody tr th {\n",
       "        vertical-align: top;\n",
       "    }\n",
       "\n",
       "    .dataframe thead th {\n",
       "        text-align: right;\n",
       "    }\n",
       "</style>\n",
       "<table border=\"1\" class=\"dataframe\">\n",
       "  <thead>\n",
       "    <tr style=\"text-align: right;\">\n",
       "      <th></th>\n",
       "      <th>Link</th>\n",
       "    </tr>\n",
       "  </thead>\n",
       "  <tbody>\n",
       "    <tr>\n",
       "      <th>9</th>\n",
       "      <td>https://www.grailed.com/designers/acne-studios</td>\n",
       "    </tr>\n",
       "  </tbody>\n",
       "</table>\n",
       "</div>"
      ],
      "text/plain": [
       "                                             Link\n",
       "9  https://www.grailed.com/designers/acne-studios"
      ]
     },
     "execution_count": 10,
     "metadata": {},
     "output_type": "execute_result"
    }
   ],
   "source": [
    "df1"
   ]
  },
  {
   "cell_type": "markdown",
   "id": "4af6c0f0",
   "metadata": {},
   "source": [
    "# Login method"
   ]
  },
  {
   "cell_type": "code",
   "execution_count": 185,
   "id": "3e905abf",
   "metadata": {},
   "outputs": [
    {
     "name": "stderr",
     "output_type": "stream",
     "text": [
      "/var/folders/3r/vv8m2rv95fz7qh9n60xh60y40000gp/T/ipykernel_29118/3248665019.py:10: DeprecationWarning: executable_path has been deprecated, please pass in a Service object\n",
      "  driver = webdriver.Chrome('data/chromedriver', chrome_options=options)\n",
      "/var/folders/3r/vv8m2rv95fz7qh9n60xh60y40000gp/T/ipykernel_29118/3248665019.py:10: DeprecationWarning: use options instead of chrome_options\n",
      "  driver = webdriver.Chrome('data/chromedriver', chrome_options=options)\n",
      "/var/folders/3r/vv8m2rv95fz7qh9n60xh60y40000gp/T/ipykernel_29118/3248665019.py:13: DeprecationWarning: find_element_by_* commands are deprecated. Please use find_element() instead\n",
      "  driver.find_element_by_css_selector(\"#global-header-login-btn\").click()\n"
     ]
    },
    {
     "ename": "NoSuchElementException",
     "evalue": "Message: no such element: Unable to locate element: {\"method\":\"css selector\",\"selector\":\"#global-header-login-btn\"}\n  (Session info: chrome=96.0.4664.55)\nStacktrace:\n0   chromedriver                        0x0000000102c25408 __gxx_personality_v0 + 543364\n1   chromedriver                        0x0000000102bbb138 __gxx_personality_v0 + 108468\n2   chromedriver                        0x00000001027ba7d8 chromedriver + 157656\n3   chromedriver                        0x00000001027ea374 chromedriver + 353140\n4   chromedriver                        0x00000001028137d4 chromedriver + 522196\n5   chromedriver                        0x00000001027df238 chromedriver + 307768\n6   chromedriver                        0x0000000102be8c7c __gxx_personality_v0 + 295672\n7   chromedriver                        0x0000000102bfcbd8 __gxx_personality_v0 + 377428\n8   chromedriver                        0x0000000102c012b0 __gxx_personality_v0 + 395564\n9   chromedriver                        0x0000000102bfd9f8 __gxx_personality_v0 + 381044\n10  chromedriver                        0x0000000102bde754 __gxx_personality_v0 + 253392\n11  chromedriver                        0x0000000102c16a38 __gxx_personality_v0 + 483508\n12  chromedriver                        0x0000000102c16bac __gxx_personality_v0 + 483880\n13  chromedriver                        0x0000000102c2bfec __gxx_personality_v0 + 570984\n14  libsystem_pthread.dylib             0x00000001966f3878 _pthread_start + 320\n15  libsystem_pthread.dylib             0x00000001966ee5e0 thread_start + 8\n",
     "output_type": "error",
     "traceback": [
      "\u001b[0;31m---------------------------------------------------------------------------\u001b[0m",
      "\u001b[0;31mNoSuchElementException\u001b[0m                    Traceback (most recent call last)",
      "\u001b[0;32m/var/folders/3r/vv8m2rv95fz7qh9n60xh60y40000gp/T/ipykernel_29118/3248665019.py\u001b[0m in \u001b[0;36m<module>\u001b[0;34m\u001b[0m\n\u001b[1;32m     11\u001b[0m \u001b[0mdriver\u001b[0m\u001b[0;34m.\u001b[0m\u001b[0mget\u001b[0m\u001b[0;34m(\u001b[0m\u001b[0mbase_url\u001b[0m\u001b[0;34m)\u001b[0m\u001b[0;34m\u001b[0m\u001b[0;34m\u001b[0m\u001b[0m\n\u001b[1;32m     12\u001b[0m \u001b[0;34m\u001b[0m\u001b[0m\n\u001b[0;32m---> 13\u001b[0;31m \u001b[0mdriver\u001b[0m\u001b[0;34m.\u001b[0m\u001b[0mfind_element_by_css_selector\u001b[0m\u001b[0;34m(\u001b[0m\u001b[0;34m\"#global-header-login-btn\"\u001b[0m\u001b[0;34m)\u001b[0m\u001b[0;34m.\u001b[0m\u001b[0mclick\u001b[0m\u001b[0;34m(\u001b[0m\u001b[0;34m)\u001b[0m\u001b[0;34m\u001b[0m\u001b[0;34m\u001b[0m\u001b[0m\n\u001b[0m\u001b[1;32m     14\u001b[0m \u001b[0;34m\u001b[0m\u001b[0m\n\u001b[1;32m     15\u001b[0m \u001b[0;31m##driver.switch_to.frame(driver.find_element_by_css_selector(\"body > div:nth-child(18) > div > div\"))\u001b[0m\u001b[0;34m\u001b[0m\u001b[0;34m\u001b[0m\u001b[0;34m\u001b[0m\u001b[0m\n",
      "\u001b[0;32m~/opt/anaconda3/envs/DA_env/lib/python3.9/site-packages/selenium/webdriver/remote/webdriver.py\u001b[0m in \u001b[0;36mfind_element_by_css_selector\u001b[0;34m(self, css_selector)\u001b[0m\n\u001b[1;32m    806\u001b[0m             \u001b[0mstacklevel\u001b[0m\u001b[0;34m=\u001b[0m\u001b[0;36m2\u001b[0m\u001b[0;34m,\u001b[0m\u001b[0;34m\u001b[0m\u001b[0;34m\u001b[0m\u001b[0m\n\u001b[1;32m    807\u001b[0m         )\n\u001b[0;32m--> 808\u001b[0;31m         \u001b[0;32mreturn\u001b[0m \u001b[0mself\u001b[0m\u001b[0;34m.\u001b[0m\u001b[0mfind_element\u001b[0m\u001b[0;34m(\u001b[0m\u001b[0mby\u001b[0m\u001b[0;34m=\u001b[0m\u001b[0mBy\u001b[0m\u001b[0;34m.\u001b[0m\u001b[0mCSS_SELECTOR\u001b[0m\u001b[0;34m,\u001b[0m \u001b[0mvalue\u001b[0m\u001b[0;34m=\u001b[0m\u001b[0mcss_selector\u001b[0m\u001b[0;34m)\u001b[0m\u001b[0;34m\u001b[0m\u001b[0;34m\u001b[0m\u001b[0m\n\u001b[0m\u001b[1;32m    809\u001b[0m \u001b[0;34m\u001b[0m\u001b[0m\n\u001b[1;32m    810\u001b[0m     \u001b[0;32mdef\u001b[0m \u001b[0mfind_elements_by_css_selector\u001b[0m\u001b[0;34m(\u001b[0m\u001b[0mself\u001b[0m\u001b[0;34m,\u001b[0m \u001b[0mcss_selector\u001b[0m\u001b[0;34m)\u001b[0m \u001b[0;34m->\u001b[0m \u001b[0mWebElement\u001b[0m\u001b[0;34m:\u001b[0m\u001b[0;34m\u001b[0m\u001b[0;34m\u001b[0m\u001b[0m\n",
      "\u001b[0;32m~/opt/anaconda3/envs/DA_env/lib/python3.9/site-packages/selenium/webdriver/remote/webdriver.py\u001b[0m in \u001b[0;36mfind_element\u001b[0;34m(self, by, value)\u001b[0m\n\u001b[1;32m   1242\u001b[0m             \u001b[0mvalue\u001b[0m \u001b[0;34m=\u001b[0m \u001b[0;34m'[name=\"%s\"]'\u001b[0m \u001b[0;34m%\u001b[0m \u001b[0mvalue\u001b[0m\u001b[0;34m\u001b[0m\u001b[0;34m\u001b[0m\u001b[0m\n\u001b[1;32m   1243\u001b[0m \u001b[0;34m\u001b[0m\u001b[0m\n\u001b[0;32m-> 1244\u001b[0;31m         return self.execute(Command.FIND_ELEMENT, {\n\u001b[0m\u001b[1;32m   1245\u001b[0m             \u001b[0;34m'using'\u001b[0m\u001b[0;34m:\u001b[0m \u001b[0mby\u001b[0m\u001b[0;34m,\u001b[0m\u001b[0;34m\u001b[0m\u001b[0;34m\u001b[0m\u001b[0m\n\u001b[1;32m   1246\u001b[0m             'value': value})['value']\n",
      "\u001b[0;32m~/opt/anaconda3/envs/DA_env/lib/python3.9/site-packages/selenium/webdriver/remote/webdriver.py\u001b[0m in \u001b[0;36mexecute\u001b[0;34m(self, driver_command, params)\u001b[0m\n\u001b[1;32m    422\u001b[0m         \u001b[0mresponse\u001b[0m \u001b[0;34m=\u001b[0m \u001b[0mself\u001b[0m\u001b[0;34m.\u001b[0m\u001b[0mcommand_executor\u001b[0m\u001b[0;34m.\u001b[0m\u001b[0mexecute\u001b[0m\u001b[0;34m(\u001b[0m\u001b[0mdriver_command\u001b[0m\u001b[0;34m,\u001b[0m \u001b[0mparams\u001b[0m\u001b[0;34m)\u001b[0m\u001b[0;34m\u001b[0m\u001b[0;34m\u001b[0m\u001b[0m\n\u001b[1;32m    423\u001b[0m         \u001b[0;32mif\u001b[0m \u001b[0mresponse\u001b[0m\u001b[0;34m:\u001b[0m\u001b[0;34m\u001b[0m\u001b[0;34m\u001b[0m\u001b[0m\n\u001b[0;32m--> 424\u001b[0;31m             \u001b[0mself\u001b[0m\u001b[0;34m.\u001b[0m\u001b[0merror_handler\u001b[0m\u001b[0;34m.\u001b[0m\u001b[0mcheck_response\u001b[0m\u001b[0;34m(\u001b[0m\u001b[0mresponse\u001b[0m\u001b[0;34m)\u001b[0m\u001b[0;34m\u001b[0m\u001b[0;34m\u001b[0m\u001b[0m\n\u001b[0m\u001b[1;32m    425\u001b[0m             response['value'] = self._unwrap_value(\n\u001b[1;32m    426\u001b[0m                 response.get('value', None))\n",
      "\u001b[0;32m~/opt/anaconda3/envs/DA_env/lib/python3.9/site-packages/selenium/webdriver/remote/errorhandler.py\u001b[0m in \u001b[0;36mcheck_response\u001b[0;34m(self, response)\u001b[0m\n\u001b[1;32m    245\u001b[0m                 \u001b[0malert_text\u001b[0m \u001b[0;34m=\u001b[0m \u001b[0mvalue\u001b[0m\u001b[0;34m[\u001b[0m\u001b[0;34m'alert'\u001b[0m\u001b[0;34m]\u001b[0m\u001b[0;34m.\u001b[0m\u001b[0mget\u001b[0m\u001b[0;34m(\u001b[0m\u001b[0;34m'text'\u001b[0m\u001b[0;34m)\u001b[0m\u001b[0;34m\u001b[0m\u001b[0;34m\u001b[0m\u001b[0m\n\u001b[1;32m    246\u001b[0m             \u001b[0;32mraise\u001b[0m \u001b[0mexception_class\u001b[0m\u001b[0;34m(\u001b[0m\u001b[0mmessage\u001b[0m\u001b[0;34m,\u001b[0m \u001b[0mscreen\u001b[0m\u001b[0;34m,\u001b[0m \u001b[0mstacktrace\u001b[0m\u001b[0;34m,\u001b[0m \u001b[0malert_text\u001b[0m\u001b[0;34m)\u001b[0m  \u001b[0;31m# type: ignore[call-arg]  # mypy is not smart enough here\u001b[0m\u001b[0;34m\u001b[0m\u001b[0;34m\u001b[0m\u001b[0m\n\u001b[0;32m--> 247\u001b[0;31m         \u001b[0;32mraise\u001b[0m \u001b[0mexception_class\u001b[0m\u001b[0;34m(\u001b[0m\u001b[0mmessage\u001b[0m\u001b[0;34m,\u001b[0m \u001b[0mscreen\u001b[0m\u001b[0;34m,\u001b[0m \u001b[0mstacktrace\u001b[0m\u001b[0;34m)\u001b[0m\u001b[0;34m\u001b[0m\u001b[0;34m\u001b[0m\u001b[0m\n\u001b[0m\u001b[1;32m    248\u001b[0m \u001b[0;34m\u001b[0m\u001b[0m\n\u001b[1;32m    249\u001b[0m     \u001b[0;32mdef\u001b[0m \u001b[0m_value_or_default\u001b[0m\u001b[0;34m(\u001b[0m\u001b[0mself\u001b[0m\u001b[0;34m,\u001b[0m \u001b[0mobj\u001b[0m\u001b[0;34m:\u001b[0m \u001b[0mMapping\u001b[0m\u001b[0;34m[\u001b[0m\u001b[0m_KT\u001b[0m\u001b[0;34m,\u001b[0m \u001b[0m_VT\u001b[0m\u001b[0;34m]\u001b[0m\u001b[0;34m,\u001b[0m \u001b[0mkey\u001b[0m\u001b[0;34m:\u001b[0m \u001b[0m_KT\u001b[0m\u001b[0;34m,\u001b[0m \u001b[0mdefault\u001b[0m\u001b[0;34m:\u001b[0m \u001b[0m_VT\u001b[0m\u001b[0;34m)\u001b[0m \u001b[0;34m->\u001b[0m \u001b[0m_VT\u001b[0m\u001b[0;34m:\u001b[0m\u001b[0;34m\u001b[0m\u001b[0;34m\u001b[0m\u001b[0m\n",
      "\u001b[0;31mNoSuchElementException\u001b[0m: Message: no such element: Unable to locate element: {\"method\":\"css selector\",\"selector\":\"#global-header-login-btn\"}\n  (Session info: chrome=96.0.4664.55)\nStacktrace:\n0   chromedriver                        0x0000000102c25408 __gxx_personality_v0 + 543364\n1   chromedriver                        0x0000000102bbb138 __gxx_personality_v0 + 108468\n2   chromedriver                        0x00000001027ba7d8 chromedriver + 157656\n3   chromedriver                        0x00000001027ea374 chromedriver + 353140\n4   chromedriver                        0x00000001028137d4 chromedriver + 522196\n5   chromedriver                        0x00000001027df238 chromedriver + 307768\n6   chromedriver                        0x0000000102be8c7c __gxx_personality_v0 + 295672\n7   chromedriver                        0x0000000102bfcbd8 __gxx_personality_v0 + 377428\n8   chromedriver                        0x0000000102c012b0 __gxx_personality_v0 + 395564\n9   chromedriver                        0x0000000102bfd9f8 __gxx_personality_v0 + 381044\n10  chromedriver                        0x0000000102bde754 __gxx_personality_v0 + 253392\n11  chromedriver                        0x0000000102c16a38 __gxx_personality_v0 + 483508\n12  chromedriver                        0x0000000102c16bac __gxx_personality_v0 + 483880\n13  chromedriver                        0x0000000102c2bfec __gxx_personality_v0 + 570984\n14  libsystem_pthread.dylib             0x00000001966f3878 _pthread_start + 320\n15  libsystem_pthread.dylib             0x00000001966ee5e0 thread_start + 8\n"
     ]
    }
   ],
   "source": [
    "# Setting a base url for where to find all the designers on grailed\n",
    "base_url = \"https://www.grailed.com/designers/\"\n",
    "# open up chrome\n",
    "##chrome_options = webdriver.ChromeOptions()\n",
    "##driver = webdriver.Chrome('data/chromedriver',options=chrome_options) # replace webdrive location with ones own\n",
    "##driver.get(base_url)\n",
    "\n",
    "options = Options()\n",
    "options.add_argument(\"user-data-dir=/tmp/tarun\")\n",
    "driver = webdriver.Chrome('data/chromedriver', chrome_options=options)\n",
    "driver.get(base_url)\n",
    "\n",
    "driver.find_element_by_css_selector(\"#global-header-login-btn\").click()\n",
    "\n",
    "##driver.switch_to.frame(driver.find_element_by_css_selector(\"body > div:nth-child(18) > div > div\"))\n",
    "##driver.find_element_by_css_selector('body > div:nth-child(18) > div').click()\n",
    "driver.find_element_by_xpath(\"/html/body/div[7]/div/div/div/div[2]/div/div/button[4]\").click()\n",
    "    \n",
    "username = driver.find_element_by_id(\"email\")\n",
    "password = driver.find_element_by_id(\"password\")\n",
    "\n",
    "username.send_keys(\"chkberlin413@gmail.com\")\n",
    "password.send_keys(\"Spiegel1101!\")\n",
    "\n",
    "driver.find_element_by_xpath(\"/html/body/div[7]/div/div/div/div[2]/div/div/form/button\").click()\n"
   ]
  },
  {
   "cell_type": "markdown",
   "id": "79ac9911",
   "metadata": {},
   "source": [
    "# Collect sold link of different designers"
   ]
  },
  {
   "cell_type": "code",
   "execution_count": 181,
   "id": "a3c70707",
   "metadata": {},
   "outputs": [
    {
     "name": "stderr",
     "output_type": "stream",
     "text": [
      "/var/folders/3r/vv8m2rv95fz7qh9n60xh60y40000gp/T/ipykernel_29118/936691423.py:9: DeprecationWarning: executable_path has been deprecated, please pass in a Service object\n",
      "  driver = webdriver.Chrome('data/chromedriver', chrome_options=options)\n",
      "/var/folders/3r/vv8m2rv95fz7qh9n60xh60y40000gp/T/ipykernel_29118/936691423.py:9: DeprecationWarning: use options instead of chrome_options\n",
      "  driver = webdriver.Chrome('data/chromedriver', chrome_options=options)\n"
     ]
    },
    {
     "ename": "InvalidArgumentException",
     "evalue": "Message: invalid argument: user data directory is already in use, please specify a unique value for --user-data-dir argument, or don't use --user-data-dir\nStacktrace:\n0   chromedriver                        0x0000000104b69408 __gxx_personality_v0 + 543364\n1   chromedriver                        0x0000000104aff138 __gxx_personality_v0 + 108468\n2   chromedriver                        0x00000001046fe7d8 chromedriver + 157656\n3   chromedriver                        0x000000010471daac chromedriver + 285356\n4   chromedriver                        0x000000010471a624 chromedriver + 271908\n5   chromedriver                        0x000000010474be24 chromedriver + 474660\n6   chromedriver                        0x0000000104723238 chromedriver + 307768\n7   chromedriver                        0x0000000104b2cc7c __gxx_personality_v0 + 295672\n8   chromedriver                        0x0000000104b40bd8 __gxx_personality_v0 + 377428\n9   chromedriver                        0x0000000104b452b0 __gxx_personality_v0 + 395564\n10  chromedriver                        0x0000000104b419f8 __gxx_personality_v0 + 381044\n11  chromedriver                        0x0000000104b22754 __gxx_personality_v0 + 253392\n12  chromedriver                        0x0000000104b5aa38 __gxx_personality_v0 + 483508\n13  chromedriver                        0x0000000104b5abac __gxx_personality_v0 + 483880\n14  chromedriver                        0x0000000104b6ffec __gxx_personality_v0 + 570984\n15  libsystem_pthread.dylib             0x00000001966f3878 _pthread_start + 320\n16  libsystem_pthread.dylib             0x00000001966ee5e0 thread_start + 8\n",
     "output_type": "error",
     "traceback": [
      "\u001b[0;31m---------------------------------------------------------------------------\u001b[0m",
      "\u001b[0;31mInvalidArgumentException\u001b[0m                  Traceback (most recent call last)",
      "\u001b[0;32m/var/folders/3r/vv8m2rv95fz7qh9n60xh60y40000gp/T/ipykernel_29118/936691423.py\u001b[0m in \u001b[0;36m<module>\u001b[0;34m\u001b[0m\n\u001b[1;32m      7\u001b[0m \u001b[0;34m\u001b[0m\u001b[0m\n\u001b[1;32m      8\u001b[0m     \u001b[0moptions\u001b[0m\u001b[0;34m.\u001b[0m\u001b[0madd_argument\u001b[0m\u001b[0;34m(\u001b[0m\u001b[0;34m\"user-data-dir=/tmp/tarun\"\u001b[0m\u001b[0;34m)\u001b[0m\u001b[0;34m\u001b[0m\u001b[0;34m\u001b[0m\u001b[0m\n\u001b[0;32m----> 9\u001b[0;31m     \u001b[0mdriver\u001b[0m \u001b[0;34m=\u001b[0m \u001b[0mwebdriver\u001b[0m\u001b[0;34m.\u001b[0m\u001b[0mChrome\u001b[0m\u001b[0;34m(\u001b[0m\u001b[0;34m'data/chromedriver'\u001b[0m\u001b[0;34m,\u001b[0m \u001b[0mchrome_options\u001b[0m\u001b[0;34m=\u001b[0m\u001b[0moptions\u001b[0m\u001b[0;34m)\u001b[0m\u001b[0;34m\u001b[0m\u001b[0;34m\u001b[0m\u001b[0m\n\u001b[0m\u001b[1;32m     10\u001b[0m     \u001b[0mdriver\u001b[0m\u001b[0;34m.\u001b[0m\u001b[0mmaximize_window\u001b[0m\u001b[0;34m(\u001b[0m\u001b[0;34m)\u001b[0m\u001b[0;34m\u001b[0m\u001b[0;34m\u001b[0m\u001b[0m\n\u001b[1;32m     11\u001b[0m     \u001b[0mdriver\u001b[0m\u001b[0;34m.\u001b[0m\u001b[0mget\u001b[0m\u001b[0;34m(\u001b[0m\u001b[0mlink\u001b[0m\u001b[0;34m)\u001b[0m\u001b[0;34m\u001b[0m\u001b[0;34m\u001b[0m\u001b[0m\n",
      "\u001b[0;32m~/opt/anaconda3/envs/DA_env/lib/python3.9/site-packages/selenium/webdriver/chrome/webdriver.py\u001b[0m in \u001b[0;36m__init__\u001b[0;34m(self, executable_path, port, options, service_args, desired_capabilities, service_log_path, chrome_options, service, keep_alive)\u001b[0m\n\u001b[1;32m     68\u001b[0m             \u001b[0mservice\u001b[0m \u001b[0;34m=\u001b[0m \u001b[0mService\u001b[0m\u001b[0;34m(\u001b[0m\u001b[0mexecutable_path\u001b[0m\u001b[0;34m,\u001b[0m \u001b[0mport\u001b[0m\u001b[0;34m,\u001b[0m \u001b[0mservice_args\u001b[0m\u001b[0;34m,\u001b[0m \u001b[0mservice_log_path\u001b[0m\u001b[0;34m)\u001b[0m\u001b[0;34m\u001b[0m\u001b[0;34m\u001b[0m\u001b[0m\n\u001b[1;32m     69\u001b[0m \u001b[0;34m\u001b[0m\u001b[0m\n\u001b[0;32m---> 70\u001b[0;31m         super(WebDriver, self).__init__(DesiredCapabilities.CHROME['browserName'], \"goog\",\n\u001b[0m\u001b[1;32m     71\u001b[0m                                         \u001b[0mport\u001b[0m\u001b[0;34m,\u001b[0m \u001b[0moptions\u001b[0m\u001b[0;34m,\u001b[0m\u001b[0;34m\u001b[0m\u001b[0;34m\u001b[0m\u001b[0m\n\u001b[1;32m     72\u001b[0m                                         \u001b[0mservice_args\u001b[0m\u001b[0;34m,\u001b[0m \u001b[0mdesired_capabilities\u001b[0m\u001b[0;34m,\u001b[0m\u001b[0;34m\u001b[0m\u001b[0;34m\u001b[0m\u001b[0m\n",
      "\u001b[0;32m~/opt/anaconda3/envs/DA_env/lib/python3.9/site-packages/selenium/webdriver/chromium/webdriver.py\u001b[0m in \u001b[0;36m__init__\u001b[0;34m(self, browser_name, vendor_prefix, port, options, service_args, desired_capabilities, service_log_path, service, keep_alive)\u001b[0m\n\u001b[1;32m     91\u001b[0m \u001b[0;34m\u001b[0m\u001b[0m\n\u001b[1;32m     92\u001b[0m         \u001b[0;32mtry\u001b[0m\u001b[0;34m:\u001b[0m\u001b[0;34m\u001b[0m\u001b[0;34m\u001b[0m\u001b[0m\n\u001b[0;32m---> 93\u001b[0;31m             RemoteWebDriver.__init__(\n\u001b[0m\u001b[1;32m     94\u001b[0m                 \u001b[0mself\u001b[0m\u001b[0;34m,\u001b[0m\u001b[0;34m\u001b[0m\u001b[0;34m\u001b[0m\u001b[0m\n\u001b[1;32m     95\u001b[0m                 command_executor=ChromiumRemoteConnection(\n",
      "\u001b[0;32m~/opt/anaconda3/envs/DA_env/lib/python3.9/site-packages/selenium/webdriver/remote/webdriver.py\u001b[0m in \u001b[0;36m__init__\u001b[0;34m(self, command_executor, desired_capabilities, browser_profile, proxy, keep_alive, file_detector, options)\u001b[0m\n\u001b[1;32m    266\u001b[0m         \u001b[0mself\u001b[0m\u001b[0;34m.\u001b[0m\u001b[0mfile_detector\u001b[0m \u001b[0;34m=\u001b[0m \u001b[0mfile_detector\u001b[0m \u001b[0;32mor\u001b[0m \u001b[0mLocalFileDetector\u001b[0m\u001b[0;34m(\u001b[0m\u001b[0;34m)\u001b[0m\u001b[0;34m\u001b[0m\u001b[0;34m\u001b[0m\u001b[0m\n\u001b[1;32m    267\u001b[0m         \u001b[0mself\u001b[0m\u001b[0;34m.\u001b[0m\u001b[0mstart_client\u001b[0m\u001b[0;34m(\u001b[0m\u001b[0;34m)\u001b[0m\u001b[0;34m\u001b[0m\u001b[0;34m\u001b[0m\u001b[0m\n\u001b[0;32m--> 268\u001b[0;31m         \u001b[0mself\u001b[0m\u001b[0;34m.\u001b[0m\u001b[0mstart_session\u001b[0m\u001b[0;34m(\u001b[0m\u001b[0mcapabilities\u001b[0m\u001b[0;34m,\u001b[0m \u001b[0mbrowser_profile\u001b[0m\u001b[0;34m)\u001b[0m\u001b[0;34m\u001b[0m\u001b[0;34m\u001b[0m\u001b[0m\n\u001b[0m\u001b[1;32m    269\u001b[0m \u001b[0;34m\u001b[0m\u001b[0m\n\u001b[1;32m    270\u001b[0m     \u001b[0;32mdef\u001b[0m \u001b[0m__repr__\u001b[0m\u001b[0;34m(\u001b[0m\u001b[0mself\u001b[0m\u001b[0;34m)\u001b[0m\u001b[0;34m:\u001b[0m\u001b[0;34m\u001b[0m\u001b[0;34m\u001b[0m\u001b[0m\n",
      "\u001b[0;32m~/opt/anaconda3/envs/DA_env/lib/python3.9/site-packages/selenium/webdriver/remote/webdriver.py\u001b[0m in \u001b[0;36mstart_session\u001b[0;34m(self, capabilities, browser_profile)\u001b[0m\n\u001b[1;32m    357\u001b[0m         parameters = {\"capabilities\": w3c_caps,\n\u001b[1;32m    358\u001b[0m                       \"desiredCapabilities\": capabilities}\n\u001b[0;32m--> 359\u001b[0;31m         \u001b[0mresponse\u001b[0m \u001b[0;34m=\u001b[0m \u001b[0mself\u001b[0m\u001b[0;34m.\u001b[0m\u001b[0mexecute\u001b[0m\u001b[0;34m(\u001b[0m\u001b[0mCommand\u001b[0m\u001b[0;34m.\u001b[0m\u001b[0mNEW_SESSION\u001b[0m\u001b[0;34m,\u001b[0m \u001b[0mparameters\u001b[0m\u001b[0;34m)\u001b[0m\u001b[0;34m\u001b[0m\u001b[0;34m\u001b[0m\u001b[0m\n\u001b[0m\u001b[1;32m    360\u001b[0m         \u001b[0;32mif\u001b[0m \u001b[0;34m'sessionId'\u001b[0m \u001b[0;32mnot\u001b[0m \u001b[0;32min\u001b[0m \u001b[0mresponse\u001b[0m\u001b[0;34m:\u001b[0m\u001b[0;34m\u001b[0m\u001b[0;34m\u001b[0m\u001b[0m\n\u001b[1;32m    361\u001b[0m             \u001b[0mresponse\u001b[0m \u001b[0;34m=\u001b[0m \u001b[0mresponse\u001b[0m\u001b[0;34m[\u001b[0m\u001b[0;34m'value'\u001b[0m\u001b[0;34m]\u001b[0m\u001b[0;34m\u001b[0m\u001b[0;34m\u001b[0m\u001b[0m\n",
      "\u001b[0;32m~/opt/anaconda3/envs/DA_env/lib/python3.9/site-packages/selenium/webdriver/remote/webdriver.py\u001b[0m in \u001b[0;36mexecute\u001b[0;34m(self, driver_command, params)\u001b[0m\n\u001b[1;32m    422\u001b[0m         \u001b[0mresponse\u001b[0m \u001b[0;34m=\u001b[0m \u001b[0mself\u001b[0m\u001b[0;34m.\u001b[0m\u001b[0mcommand_executor\u001b[0m\u001b[0;34m.\u001b[0m\u001b[0mexecute\u001b[0m\u001b[0;34m(\u001b[0m\u001b[0mdriver_command\u001b[0m\u001b[0;34m,\u001b[0m \u001b[0mparams\u001b[0m\u001b[0;34m)\u001b[0m\u001b[0;34m\u001b[0m\u001b[0;34m\u001b[0m\u001b[0m\n\u001b[1;32m    423\u001b[0m         \u001b[0;32mif\u001b[0m \u001b[0mresponse\u001b[0m\u001b[0;34m:\u001b[0m\u001b[0;34m\u001b[0m\u001b[0;34m\u001b[0m\u001b[0m\n\u001b[0;32m--> 424\u001b[0;31m             \u001b[0mself\u001b[0m\u001b[0;34m.\u001b[0m\u001b[0merror_handler\u001b[0m\u001b[0;34m.\u001b[0m\u001b[0mcheck_response\u001b[0m\u001b[0;34m(\u001b[0m\u001b[0mresponse\u001b[0m\u001b[0;34m)\u001b[0m\u001b[0;34m\u001b[0m\u001b[0;34m\u001b[0m\u001b[0m\n\u001b[0m\u001b[1;32m    425\u001b[0m             response['value'] = self._unwrap_value(\n\u001b[1;32m    426\u001b[0m                 response.get('value', None))\n",
      "\u001b[0;32m~/opt/anaconda3/envs/DA_env/lib/python3.9/site-packages/selenium/webdriver/remote/errorhandler.py\u001b[0m in \u001b[0;36mcheck_response\u001b[0;34m(self, response)\u001b[0m\n\u001b[1;32m    245\u001b[0m                 \u001b[0malert_text\u001b[0m \u001b[0;34m=\u001b[0m \u001b[0mvalue\u001b[0m\u001b[0;34m[\u001b[0m\u001b[0;34m'alert'\u001b[0m\u001b[0;34m]\u001b[0m\u001b[0;34m.\u001b[0m\u001b[0mget\u001b[0m\u001b[0;34m(\u001b[0m\u001b[0;34m'text'\u001b[0m\u001b[0;34m)\u001b[0m\u001b[0;34m\u001b[0m\u001b[0;34m\u001b[0m\u001b[0m\n\u001b[1;32m    246\u001b[0m             \u001b[0;32mraise\u001b[0m \u001b[0mexception_class\u001b[0m\u001b[0;34m(\u001b[0m\u001b[0mmessage\u001b[0m\u001b[0;34m,\u001b[0m \u001b[0mscreen\u001b[0m\u001b[0;34m,\u001b[0m \u001b[0mstacktrace\u001b[0m\u001b[0;34m,\u001b[0m \u001b[0malert_text\u001b[0m\u001b[0;34m)\u001b[0m  \u001b[0;31m# type: ignore[call-arg]  # mypy is not smart enough here\u001b[0m\u001b[0;34m\u001b[0m\u001b[0;34m\u001b[0m\u001b[0m\n\u001b[0;32m--> 247\u001b[0;31m         \u001b[0;32mraise\u001b[0m \u001b[0mexception_class\u001b[0m\u001b[0;34m(\u001b[0m\u001b[0mmessage\u001b[0m\u001b[0;34m,\u001b[0m \u001b[0mscreen\u001b[0m\u001b[0;34m,\u001b[0m \u001b[0mstacktrace\u001b[0m\u001b[0;34m)\u001b[0m\u001b[0;34m\u001b[0m\u001b[0;34m\u001b[0m\u001b[0m\n\u001b[0m\u001b[1;32m    248\u001b[0m \u001b[0;34m\u001b[0m\u001b[0m\n\u001b[1;32m    249\u001b[0m     \u001b[0;32mdef\u001b[0m \u001b[0m_value_or_default\u001b[0m\u001b[0;34m(\u001b[0m\u001b[0mself\u001b[0m\u001b[0;34m,\u001b[0m \u001b[0mobj\u001b[0m\u001b[0;34m:\u001b[0m \u001b[0mMapping\u001b[0m\u001b[0;34m[\u001b[0m\u001b[0m_KT\u001b[0m\u001b[0;34m,\u001b[0m \u001b[0m_VT\u001b[0m\u001b[0;34m]\u001b[0m\u001b[0;34m,\u001b[0m \u001b[0mkey\u001b[0m\u001b[0;34m:\u001b[0m \u001b[0m_KT\u001b[0m\u001b[0;34m,\u001b[0m \u001b[0mdefault\u001b[0m\u001b[0;34m:\u001b[0m \u001b[0m_VT\u001b[0m\u001b[0;34m)\u001b[0m \u001b[0;34m->\u001b[0m \u001b[0m_VT\u001b[0m\u001b[0;34m:\u001b[0m\u001b[0;34m\u001b[0m\u001b[0;34m\u001b[0m\u001b[0m\n",
      "\u001b[0;31mInvalidArgumentException\u001b[0m: Message: invalid argument: user data directory is already in use, please specify a unique value for --user-data-dir argument, or don't use --user-data-dir\nStacktrace:\n0   chromedriver                        0x0000000104b69408 __gxx_personality_v0 + 543364\n1   chromedriver                        0x0000000104aff138 __gxx_personality_v0 + 108468\n2   chromedriver                        0x00000001046fe7d8 chromedriver + 157656\n3   chromedriver                        0x000000010471daac chromedriver + 285356\n4   chromedriver                        0x000000010471a624 chromedriver + 271908\n5   chromedriver                        0x000000010474be24 chromedriver + 474660\n6   chromedriver                        0x0000000104723238 chromedriver + 307768\n7   chromedriver                        0x0000000104b2cc7c __gxx_personality_v0 + 295672\n8   chromedriver                        0x0000000104b40bd8 __gxx_personality_v0 + 377428\n9   chromedriver                        0x0000000104b452b0 __gxx_personality_v0 + 395564\n10  chromedriver                        0x0000000104b419f8 __gxx_personality_v0 + 381044\n11  chromedriver                        0x0000000104b22754 __gxx_personality_v0 + 253392\n12  chromedriver                        0x0000000104b5aa38 __gxx_personality_v0 + 483508\n13  chromedriver                        0x0000000104b5abac __gxx_personality_v0 + 483880\n14  chromedriver                        0x0000000104b6ffec __gxx_personality_v0 + 570984\n15  libsystem_pthread.dylib             0x00000001966f3878 _pthread_start + 320\n16  libsystem_pthread.dylib             0x00000001966ee5e0 thread_start + 8\n"
     ]
    }
   ],
   "source": [
    "# list of sold links to be appended to\n",
    "sold_links = []\n",
    "\n",
    "# looping through the designer links\n",
    "for link in df1['Link']:\n",
    "    # will open the desinger link\n",
    "    options = Options()\n",
    "    options.add_argument(\"user-data-dir=/tmp/tarun\")\n",
    "    driver = webdriver.FireFox('data/geckodriver') # replace webdrive location with ones own\n",
    "    driver.maximize_window()\n",
    "    driver.get(link)\n",
    "    \n",
    "    options.add_argument(\"user-data-dir=/tmp/tarun\")\n",
    "    driver = webdriver.Chrome('data/chromedriver', chrome_options=options)\n",
    "    driver.maximize_window()\n",
    "    driver.get(link)\n",
    "    \n",
    "    driver.find_element_by_css_selector(\"#global-header-login-btn\").click()\n",
    "\n",
    "##driver.switch_to.frame(driver.find_element_by_css_selector(\"body > div:nth-child(18) > div > div\"))\n",
    "##driver.find_element_by_css_selector('body > div:nth-child(18) > div').click()\n",
    "\n",
    "    ## Login function from login button\n",
    "    driver.find_element_by_xpath(\"/html/body/div[7]/div/div/div/div[2]/div/div/button[4]\").click()\n",
    "    \n",
    "    username = driver.find_element_by_id(\"email\")\n",
    "    password = driver.find_element_by_id(\"password\")\n",
    "\n",
    "    username.send_keys(\"chkberlin413@gmail.com\")\n",
    "    password.send_keys(\"Spiegel1101!\")\n",
    "\n",
    "    driver.find_element_by_xpath(\"/html/body/div[7]/div/div/div/div[2]/div/div/form/button\").click()\n",
    "    ## Scroll down the page\n",
    "    element = driver.find_elements_by_xpath(\"//*[@id='feed']/div/div[3]/div[1]/div\")[0]\n",
    "    driver.execute_script(\"arguments[0].scrollIntoView();\", element)\n",
    "    driver.execute_script(\"arguments[0].click();\", element)\n",
    "    WebDriverWait(driver, timeout).until(EC.visibility_of_element_located((By.XPATH, \"//div[@id='__next']\")))\n",
    "    #feed > div > div.feed-and-filters > div.left > div > div:nth-child(7) > div.filter-top > div\n",
    "    \n",
    "    \n",
    "    driver.implicitly_wait(10)\n",
    "    button.click()\n",
    "\n",
    "    button = driver.find_elements_by_xpath(\"//*[@id='feed']/div/div[3]/div[1]/div/div[7]/div[1]/div\")[0]\n",
    "    driver.implicitly_wait(10)\n",
    "    button.click()\n",
    "        \n",
    "    sold_click = driver.find_elements_by_xpath(\"//*[@id='sold-filter']\")[0]\n",
    "    driver.implicitly_wait(10)\n",
    "    ActionChains(driver).move_to_element(sold_click).click(sold_click).perform()\n",
    "    \n",
    "    driver.implicitly_wait(1)   \n",
    "    sold_link = driver.current_url # getting current url which is the sold link for the designer\n",
    "    sold_links.append(sold_link)"
   ]
  },
  {
   "cell_type": "code",
   "execution_count": 145,
   "id": "dfafafbc",
   "metadata": {},
   "outputs": [
    {
     "data": {
      "text/plain": [
       "[]"
      ]
     },
     "execution_count": 145,
     "metadata": {},
     "output_type": "execute_result"
    }
   ],
   "source": [
    "sold_links"
   ]
  },
  {
   "cell_type": "code",
   "execution_count": 61,
   "id": "e24c0fff",
   "metadata": {},
   "outputs": [
    {
     "data": {
      "text/plain": [
       "[]"
      ]
     },
     "execution_count": 61,
     "metadata": {},
     "output_type": "execute_result"
    }
   ],
   "source": [
    "    \n",
    "    eleme = driver.find_elements_by_xpath(\"//*[@id='feed']/div/div[3]/div[1]/div/div[7]/div[1]/div\")\n",
    "    eleme[0].click();\n",
    "    \n",
    "    element = driver.find_elements_by_xpath(\"//*[@id='sold-filter']\")[0]\n",
    "    element.click();# finding sold box\n",
    "\n",
    "    \n",
    "    \n",
    "    driver.find_element_by_xpath(\"/html/body\").click()\n",
    "    ##driver.find_element_by_xpath(\"/html/body/div[6]/div\").click()\n",
    "    ##WebDriverWait(driver, timeout).until(EC.visibility_of_element_located((By.XPATH, \"//div[@id='__next']\")))\n",
    "    elem = driver.find_element_by_xpath(\"//*[@id='__next']\") # user login window will pop up\n",
    "    ac = ActionChains(driver)\n",
    "    ac.move_to_element(elem).move_by_offset(250, 0).click().perform() # clicking away from login window\n",
    "    \n",
    "    element = driver.find_elements_by_xpath(\"//*[@id='__next']\") # finding sold box\n",
    "    ac = ActionChains(driver)\n",
    "    ac.move_to_element(elem).move_by_offset(250, 0).click().perform()# click sold box finding show only button \n",
    "    eleme = driver.find_elements_by_xpath(\"//*[@id='feed']/div/div[3]/div[1]/div/div[7]/div[1]/div\")\n",
    "    eleme[0].click();\n",
    "    \n",
    "    \n",
    "    element = driver.find_elements_by_xpath(\"//*[@id='feed']/div/div[3]/div[1]/div/div[7]/div[1]/div\") # finding sold box\n",
    "    element[0].click(); # click sold box\n",
    "    ##element = driver.find_elements_by_xpath(\"//*[@id='feed']/div/div[3]/div[1]/div/div[7]\") # finding show only button \n",
    "    ##element[0].click(); # click show only\n",
    "    ##driver.find_element_by_css_selector(\"#feed > div > div.feed-and-filters > div.left > div > div:nth-child(7) > div.filter-top\").click()\n",
    "    ##element = driver.find_elements_by_xpath(\"//*[contains(text(),'Show Only')]\") # finding show only button \n",
    "    ##element[0].click(); # click show only\n",
    "    \n",
    "    \n",
    "    try:\n",
    "        driver.find_element_by_css_selector(\"#feed>div>div.feed-and-filters>div.left>div>div:nth-child(7)>div.filter-top>div\").click()\n",
    "    except:\n",
    "        continue\n",
    "    driver.implicitly_wait(1)\n",
    "    \n",
    "    try:\n",
    "        element = driver.find_elements_by_xpath(\"//input[@id='sold-filter']\") # finding sold box\n",
    "        element[0].click(); # click sold box\n",
    "    except:\n",
    "        driver.close()\n",
    "        continue"
   ]
  },
  {
   "cell_type": "code",
   "execution_count": 6,
   "id": "f6aa06dd",
   "metadata": {},
   "outputs": [
    {
     "name": "stderr",
     "output_type": "stream",
     "text": [
      "/var/folders/3r/vv8m2rv95fz7qh9n60xh60y40000gp/T/ipykernel_27072/3162106125.py:1: DeprecationWarning: executable_path has been deprecated, please pass in a Service object\n",
      "  driver = webdriver.Chrome('data/chromedriver',options=chrome_options) # replace webdrive location with ones own\n",
      "/var/folders/3r/vv8m2rv95fz7qh9n60xh60y40000gp/T/ipykernel_27072/3162106125.py:3: DeprecationWarning: find_element_by_* commands are deprecated. Please use find_element() instead\n",
      "  driver.find_element_by_css_selector(\"#feed>div>div.feed-and-filters>div.left>div>div:nth-child(7)>div.filter-top>div\").click()\n"
     ]
    },
    {
     "ename": "NoSuchElementException",
     "evalue": "Message: no such element: Unable to locate element: {\"method\":\"css selector\",\"selector\":\"#feed>div>div.feed-and-filters>div.left>div>div:nth-child(7)>div.filter-top>div\"}\n  (Session info: chrome=96.0.4664.55)\nStacktrace:\n0   chromedriver                        0x00000001027d1408 __gxx_personality_v0 + 543364\n1   chromedriver                        0x0000000102767138 __gxx_personality_v0 + 108468\n2   chromedriver                        0x00000001023667d8 chromedriver + 157656\n3   chromedriver                        0x0000000102396374 chromedriver + 353140\n4   chromedriver                        0x00000001023bf7d4 chromedriver + 522196\n5   chromedriver                        0x000000010238b238 chromedriver + 307768\n6   chromedriver                        0x0000000102794c7c __gxx_personality_v0 + 295672\n7   chromedriver                        0x00000001027a8bd8 __gxx_personality_v0 + 377428\n8   chromedriver                        0x00000001027ad2b0 __gxx_personality_v0 + 395564\n9   chromedriver                        0x00000001027a99f8 __gxx_personality_v0 + 381044\n10  chromedriver                        0x000000010278a754 __gxx_personality_v0 + 253392\n11  chromedriver                        0x00000001027c2a38 __gxx_personality_v0 + 483508\n12  chromedriver                        0x00000001027c2bac __gxx_personality_v0 + 483880\n13  chromedriver                        0x00000001027d7fec __gxx_personality_v0 + 570984\n14  libsystem_pthread.dylib             0x00000001966f3878 _pthread_start + 320\n15  libsystem_pthread.dylib             0x00000001966ee5e0 thread_start + 8\n",
     "output_type": "error",
     "traceback": [
      "\u001b[0;31m---------------------------------------------------------------------------\u001b[0m",
      "\u001b[0;31mNoSuchElementException\u001b[0m                    Traceback (most recent call last)",
      "\u001b[0;32m/var/folders/3r/vv8m2rv95fz7qh9n60xh60y40000gp/T/ipykernel_27072/3162106125.py\u001b[0m in \u001b[0;36m<module>\u001b[0;34m\u001b[0m\n\u001b[1;32m      1\u001b[0m \u001b[0mdriver\u001b[0m \u001b[0;34m=\u001b[0m \u001b[0mwebdriver\u001b[0m\u001b[0;34m.\u001b[0m\u001b[0mChrome\u001b[0m\u001b[0;34m(\u001b[0m\u001b[0;34m'data/chromedriver'\u001b[0m\u001b[0;34m,\u001b[0m\u001b[0moptions\u001b[0m\u001b[0;34m=\u001b[0m\u001b[0mchrome_options\u001b[0m\u001b[0;34m)\u001b[0m \u001b[0;31m# replace webdrive location with ones own\u001b[0m\u001b[0;34m\u001b[0m\u001b[0;34m\u001b[0m\u001b[0m\n\u001b[1;32m      2\u001b[0m \u001b[0mdriver\u001b[0m\u001b[0;34m.\u001b[0m\u001b[0mget\u001b[0m\u001b[0;34m(\u001b[0m\u001b[0mbase_url\u001b[0m\u001b[0;34m)\u001b[0m\u001b[0;34m\u001b[0m\u001b[0;34m\u001b[0m\u001b[0m\n\u001b[0;32m----> 3\u001b[0;31m \u001b[0mdriver\u001b[0m\u001b[0;34m.\u001b[0m\u001b[0mfind_element_by_css_selector\u001b[0m\u001b[0;34m(\u001b[0m\u001b[0;34m\"#feed>div>div.feed-and-filters>div.left>div>div:nth-child(7)>div.filter-top>div\"\u001b[0m\u001b[0;34m)\u001b[0m\u001b[0;34m.\u001b[0m\u001b[0mclick\u001b[0m\u001b[0;34m(\u001b[0m\u001b[0;34m)\u001b[0m\u001b[0;34m\u001b[0m\u001b[0;34m\u001b[0m\u001b[0m\n\u001b[0m",
      "\u001b[0;32m~/opt/anaconda3/envs/DA_env/lib/python3.9/site-packages/selenium/webdriver/remote/webdriver.py\u001b[0m in \u001b[0;36mfind_element_by_css_selector\u001b[0;34m(self, css_selector)\u001b[0m\n\u001b[1;32m    806\u001b[0m             \u001b[0mstacklevel\u001b[0m\u001b[0;34m=\u001b[0m\u001b[0;36m2\u001b[0m\u001b[0;34m,\u001b[0m\u001b[0;34m\u001b[0m\u001b[0;34m\u001b[0m\u001b[0m\n\u001b[1;32m    807\u001b[0m         )\n\u001b[0;32m--> 808\u001b[0;31m         \u001b[0;32mreturn\u001b[0m \u001b[0mself\u001b[0m\u001b[0;34m.\u001b[0m\u001b[0mfind_element\u001b[0m\u001b[0;34m(\u001b[0m\u001b[0mby\u001b[0m\u001b[0;34m=\u001b[0m\u001b[0mBy\u001b[0m\u001b[0;34m.\u001b[0m\u001b[0mCSS_SELECTOR\u001b[0m\u001b[0;34m,\u001b[0m \u001b[0mvalue\u001b[0m\u001b[0;34m=\u001b[0m\u001b[0mcss_selector\u001b[0m\u001b[0;34m)\u001b[0m\u001b[0;34m\u001b[0m\u001b[0;34m\u001b[0m\u001b[0m\n\u001b[0m\u001b[1;32m    809\u001b[0m \u001b[0;34m\u001b[0m\u001b[0m\n\u001b[1;32m    810\u001b[0m     \u001b[0;32mdef\u001b[0m \u001b[0mfind_elements_by_css_selector\u001b[0m\u001b[0;34m(\u001b[0m\u001b[0mself\u001b[0m\u001b[0;34m,\u001b[0m \u001b[0mcss_selector\u001b[0m\u001b[0;34m)\u001b[0m \u001b[0;34m->\u001b[0m \u001b[0mWebElement\u001b[0m\u001b[0;34m:\u001b[0m\u001b[0;34m\u001b[0m\u001b[0;34m\u001b[0m\u001b[0m\n",
      "\u001b[0;32m~/opt/anaconda3/envs/DA_env/lib/python3.9/site-packages/selenium/webdriver/remote/webdriver.py\u001b[0m in \u001b[0;36mfind_element\u001b[0;34m(self, by, value)\u001b[0m\n\u001b[1;32m   1242\u001b[0m             \u001b[0mvalue\u001b[0m \u001b[0;34m=\u001b[0m \u001b[0;34m'[name=\"%s\"]'\u001b[0m \u001b[0;34m%\u001b[0m \u001b[0mvalue\u001b[0m\u001b[0;34m\u001b[0m\u001b[0;34m\u001b[0m\u001b[0m\n\u001b[1;32m   1243\u001b[0m \u001b[0;34m\u001b[0m\u001b[0m\n\u001b[0;32m-> 1244\u001b[0;31m         return self.execute(Command.FIND_ELEMENT, {\n\u001b[0m\u001b[1;32m   1245\u001b[0m             \u001b[0;34m'using'\u001b[0m\u001b[0;34m:\u001b[0m \u001b[0mby\u001b[0m\u001b[0;34m,\u001b[0m\u001b[0;34m\u001b[0m\u001b[0;34m\u001b[0m\u001b[0m\n\u001b[1;32m   1246\u001b[0m             'value': value})['value']\n",
      "\u001b[0;32m~/opt/anaconda3/envs/DA_env/lib/python3.9/site-packages/selenium/webdriver/remote/webdriver.py\u001b[0m in \u001b[0;36mexecute\u001b[0;34m(self, driver_command, params)\u001b[0m\n\u001b[1;32m    422\u001b[0m         \u001b[0mresponse\u001b[0m \u001b[0;34m=\u001b[0m \u001b[0mself\u001b[0m\u001b[0;34m.\u001b[0m\u001b[0mcommand_executor\u001b[0m\u001b[0;34m.\u001b[0m\u001b[0mexecute\u001b[0m\u001b[0;34m(\u001b[0m\u001b[0mdriver_command\u001b[0m\u001b[0;34m,\u001b[0m \u001b[0mparams\u001b[0m\u001b[0;34m)\u001b[0m\u001b[0;34m\u001b[0m\u001b[0;34m\u001b[0m\u001b[0m\n\u001b[1;32m    423\u001b[0m         \u001b[0;32mif\u001b[0m \u001b[0mresponse\u001b[0m\u001b[0;34m:\u001b[0m\u001b[0;34m\u001b[0m\u001b[0;34m\u001b[0m\u001b[0m\n\u001b[0;32m--> 424\u001b[0;31m             \u001b[0mself\u001b[0m\u001b[0;34m.\u001b[0m\u001b[0merror_handler\u001b[0m\u001b[0;34m.\u001b[0m\u001b[0mcheck_response\u001b[0m\u001b[0;34m(\u001b[0m\u001b[0mresponse\u001b[0m\u001b[0;34m)\u001b[0m\u001b[0;34m\u001b[0m\u001b[0;34m\u001b[0m\u001b[0m\n\u001b[0m\u001b[1;32m    425\u001b[0m             response['value'] = self._unwrap_value(\n\u001b[1;32m    426\u001b[0m                 response.get('value', None))\n",
      "\u001b[0;32m~/opt/anaconda3/envs/DA_env/lib/python3.9/site-packages/selenium/webdriver/remote/errorhandler.py\u001b[0m in \u001b[0;36mcheck_response\u001b[0;34m(self, response)\u001b[0m\n\u001b[1;32m    245\u001b[0m                 \u001b[0malert_text\u001b[0m \u001b[0;34m=\u001b[0m \u001b[0mvalue\u001b[0m\u001b[0;34m[\u001b[0m\u001b[0;34m'alert'\u001b[0m\u001b[0;34m]\u001b[0m\u001b[0;34m.\u001b[0m\u001b[0mget\u001b[0m\u001b[0;34m(\u001b[0m\u001b[0;34m'text'\u001b[0m\u001b[0;34m)\u001b[0m\u001b[0;34m\u001b[0m\u001b[0;34m\u001b[0m\u001b[0m\n\u001b[1;32m    246\u001b[0m             \u001b[0;32mraise\u001b[0m \u001b[0mexception_class\u001b[0m\u001b[0;34m(\u001b[0m\u001b[0mmessage\u001b[0m\u001b[0;34m,\u001b[0m \u001b[0mscreen\u001b[0m\u001b[0;34m,\u001b[0m \u001b[0mstacktrace\u001b[0m\u001b[0;34m,\u001b[0m \u001b[0malert_text\u001b[0m\u001b[0;34m)\u001b[0m  \u001b[0;31m# type: ignore[call-arg]  # mypy is not smart enough here\u001b[0m\u001b[0;34m\u001b[0m\u001b[0;34m\u001b[0m\u001b[0m\n\u001b[0;32m--> 247\u001b[0;31m         \u001b[0;32mraise\u001b[0m \u001b[0mexception_class\u001b[0m\u001b[0;34m(\u001b[0m\u001b[0mmessage\u001b[0m\u001b[0;34m,\u001b[0m \u001b[0mscreen\u001b[0m\u001b[0;34m,\u001b[0m \u001b[0mstacktrace\u001b[0m\u001b[0;34m)\u001b[0m\u001b[0;34m\u001b[0m\u001b[0;34m\u001b[0m\u001b[0m\n\u001b[0m\u001b[1;32m    248\u001b[0m \u001b[0;34m\u001b[0m\u001b[0m\n\u001b[1;32m    249\u001b[0m     \u001b[0;32mdef\u001b[0m \u001b[0m_value_or_default\u001b[0m\u001b[0;34m(\u001b[0m\u001b[0mself\u001b[0m\u001b[0;34m,\u001b[0m \u001b[0mobj\u001b[0m\u001b[0;34m:\u001b[0m \u001b[0mMapping\u001b[0m\u001b[0;34m[\u001b[0m\u001b[0m_KT\u001b[0m\u001b[0;34m,\u001b[0m \u001b[0m_VT\u001b[0m\u001b[0;34m]\u001b[0m\u001b[0;34m,\u001b[0m \u001b[0mkey\u001b[0m\u001b[0;34m:\u001b[0m \u001b[0m_KT\u001b[0m\u001b[0;34m,\u001b[0m \u001b[0mdefault\u001b[0m\u001b[0;34m:\u001b[0m \u001b[0m_VT\u001b[0m\u001b[0;34m)\u001b[0m \u001b[0;34m->\u001b[0m \u001b[0m_VT\u001b[0m\u001b[0;34m:\u001b[0m\u001b[0;34m\u001b[0m\u001b[0;34m\u001b[0m\u001b[0m\n",
      "\u001b[0;31mNoSuchElementException\u001b[0m: Message: no such element: Unable to locate element: {\"method\":\"css selector\",\"selector\":\"#feed>div>div.feed-and-filters>div.left>div>div:nth-child(7)>div.filter-top>div\"}\n  (Session info: chrome=96.0.4664.55)\nStacktrace:\n0   chromedriver                        0x00000001027d1408 __gxx_personality_v0 + 543364\n1   chromedriver                        0x0000000102767138 __gxx_personality_v0 + 108468\n2   chromedriver                        0x00000001023667d8 chromedriver + 157656\n3   chromedriver                        0x0000000102396374 chromedriver + 353140\n4   chromedriver                        0x00000001023bf7d4 chromedriver + 522196\n5   chromedriver                        0x000000010238b238 chromedriver + 307768\n6   chromedriver                        0x0000000102794c7c __gxx_personality_v0 + 295672\n7   chromedriver                        0x00000001027a8bd8 __gxx_personality_v0 + 377428\n8   chromedriver                        0x00000001027ad2b0 __gxx_personality_v0 + 395564\n9   chromedriver                        0x00000001027a99f8 __gxx_personality_v0 + 381044\n10  chromedriver                        0x000000010278a754 __gxx_personality_v0 + 253392\n11  chromedriver                        0x00000001027c2a38 __gxx_personality_v0 + 483508\n12  chromedriver                        0x00000001027c2bac __gxx_personality_v0 + 483880\n13  chromedriver                        0x00000001027d7fec __gxx_personality_v0 + 570984\n14  libsystem_pthread.dylib             0x00000001966f3878 _pthread_start + 320\n15  libsystem_pthread.dylib             0x00000001966ee5e0 thread_start + 8\n"
     ]
    }
   ],
   "source": [
    "driver = webdriver.Chrome('data/chromedriver',options=chrome_options) # replace webdrive location with ones own\n",
    "driver.get(base_url)\n",
    "driver.find_element_by_css_selector(\"#feed>div>div.feed-and-filters>div.left>div>div:nth-child(7)>div.filter-top>div\").click()\n"
   ]
  },
  {
   "cell_type": "code",
   "execution_count": null,
   "id": "97ccf90e",
   "metadata": {},
   "outputs": [],
   "source": []
  }
 ],
 "metadata": {
  "kernelspec": {
   "display_name": "Python 3.9.6 64-bit ('DA_env': conda)",
   "language": "python",
   "name": "python396jvsc74a57bd012bd8297a1d74c0a30a730a485908f1f7aa6eb3402318f2c7abdc197fc45e016"
  },
  "language_info": {
   "codemirror_mode": {
    "name": "ipython",
    "version": 3
   },
   "file_extension": ".py",
   "mimetype": "text/x-python",
   "name": "python",
   "nbconvert_exporter": "python",
   "pygments_lexer": "ipython3",
   "version": "3.9.6"
  }
 },
 "nbformat": 4,
 "nbformat_minor": 5
}
